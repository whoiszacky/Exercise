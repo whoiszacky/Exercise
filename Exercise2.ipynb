{
 "cells": [
  {
   "cell_type": "markdown",
   "metadata": {},
   "source": [
    "# Exercise 2.1\n"
   ]
  },
  {
   "cell_type": "code",
   "execution_count": null,
   "metadata": {},
   "outputs": [],
   "source": [
    "import pandas as pd"
   ]
  },
  {
   "cell_type": "code",
   "execution_count": 2,
   "metadata": {},
   "outputs": [
    {
     "data": {
      "text/html": [
       "<div>\n",
       "<style scoped>\n",
       "    .dataframe tbody tr th:only-of-type {\n",
       "        vertical-align: middle;\n",
       "    }\n",
       "\n",
       "    .dataframe tbody tr th {\n",
       "        vertical-align: top;\n",
       "    }\n",
       "\n",
       "    .dataframe thead th {\n",
       "        text-align: right;\n",
       "    }\n",
       "</style>\n",
       "<table border=\"1\" class=\"dataframe\">\n",
       "  <thead>\n",
       "    <tr style=\"text-align: right;\">\n",
       "      <th></th>\n",
       "      <th>Category</th>\n",
       "      <th>Name</th>\n",
       "      <th>Price</th>\n",
       "      <th>Rating</th>\n",
       "    </tr>\n",
       "  </thead>\n",
       "  <tbody>\n",
       "    <tr>\n",
       "      <th>0</th>\n",
       "      <td>Soft Drinks</td>\n",
       "      <td>Mehua</td>\n",
       "      <td>10</td>\n",
       "      <td>4.5</td>\n",
       "    </tr>\n",
       "    <tr>\n",
       "      <th>1</th>\n",
       "      <td>Frozen Foods</td>\n",
       "      <td>1KG Meat</td>\n",
       "      <td>20</td>\n",
       "      <td>5.0</td>\n",
       "    </tr>\n",
       "    <tr>\n",
       "      <th>2</th>\n",
       "      <td>Hot meals</td>\n",
       "      <td>Cooked meat</td>\n",
       "      <td>15</td>\n",
       "      <td>3.5</td>\n",
       "    </tr>\n",
       "    <tr>\n",
       "      <th>3</th>\n",
       "      <td>Clothing</td>\n",
       "      <td>t-shirt</td>\n",
       "      <td>30</td>\n",
       "      <td>4.0</td>\n",
       "    </tr>\n",
       "    <tr>\n",
       "      <th>4</th>\n",
       "      <td>Sport</td>\n",
       "      <td>football Stuff</td>\n",
       "      <td>40</td>\n",
       "      <td>4.2</td>\n",
       "    </tr>\n",
       "    <tr>\n",
       "      <th>5</th>\n",
       "      <td>Home</td>\n",
       "      <td>Matto</td>\n",
       "      <td>60</td>\n",
       "      <td>4.7</td>\n",
       "    </tr>\n",
       "    <tr>\n",
       "      <th>6</th>\n",
       "      <td>Electronics</td>\n",
       "      <td>laaturi</td>\n",
       "      <td>12</td>\n",
       "      <td>3.9</td>\n",
       "    </tr>\n",
       "    <tr>\n",
       "      <th>7</th>\n",
       "      <td>Books</td>\n",
       "      <td>Miksi olet köyhä</td>\n",
       "      <td>150</td>\n",
       "      <td>4.0</td>\n",
       "    </tr>\n",
       "  </tbody>\n",
       "</table>\n",
       "</div>"
      ],
      "text/plain": [
       "       Category              Name  Price  Rating\n",
       "0   Soft Drinks             Mehua     10     4.5\n",
       "1  Frozen Foods          1KG Meat     20     5.0\n",
       "2     Hot meals       Cooked meat     15     3.5\n",
       "3      Clothing           t-shirt     30     4.0\n",
       "4         Sport    football Stuff     40     4.2\n",
       "5          Home             Matto     60     4.7\n",
       "6   Electronics           laaturi     12     3.9\n",
       "7         Books  Miksi olet köyhä    150     4.0"
      ]
     },
     "execution_count": 2,
     "metadata": {},
     "output_type": "execute_result"
    }
   ],
   "source": [
    "# creating Data Frames\n",
    "import pandas as pd\n",
    "ProductDetails = {\n",
    "    \"Category\" : [\"Soft Drinks\", \"Frozen Foods\", \"Hot meals\", \"Clothing\", \"Sport\", \"Home\", \"Electronics\", \"Books\"],\n",
    "    \"Name\" : [\"Mehua\", \"1KG Meat\", \"Cooked meat\", \"t-shirt\", \"football Stuff\", \"Matto\", \"laaturi\", \"Miksi olet köyhä\"],\n",
    "    \"Price\" : [10, 20, 15, 30, 40, 60, 12, 150],\n",
    "    \"Rating\" : [4.5, 5.0, 3.5, 4.0, 4.2, 4.7, 3.9, 4.0],\n",
    "}\n",
    "\n",
    "ProductDetailsInfo = pd.DataFrame(ProductDetails)\n",
    "ProductDetailsInfo"
   ]
  },
  {
   "cell_type": "code",
   "execution_count": 3,
   "metadata": {},
   "outputs": [
    {
     "data": {
      "text/html": [
       "<div>\n",
       "<style scoped>\n",
       "    .dataframe tbody tr th:only-of-type {\n",
       "        vertical-align: middle;\n",
       "    }\n",
       "\n",
       "    .dataframe tbody tr th {\n",
       "        vertical-align: top;\n",
       "    }\n",
       "\n",
       "    .dataframe thead th {\n",
       "        text-align: right;\n",
       "    }\n",
       "</style>\n",
       "<table border=\"1\" class=\"dataframe\">\n",
       "  <thead>\n",
       "    <tr style=\"text-align: right;\">\n",
       "      <th></th>\n",
       "      <th>Category</th>\n",
       "      <th>Name</th>\n",
       "      <th>Price</th>\n",
       "      <th>Rating</th>\n",
       "    </tr>\n",
       "  </thead>\n",
       "  <tbody>\n",
       "    <tr>\n",
       "      <th>0</th>\n",
       "      <td>Soft Drinks</td>\n",
       "      <td>Mehua</td>\n",
       "      <td>10</td>\n",
       "      <td>4.5</td>\n",
       "    </tr>\n",
       "    <tr>\n",
       "      <th>1</th>\n",
       "      <td>Frozen Foods</td>\n",
       "      <td>1KG Meat</td>\n",
       "      <td>20</td>\n",
       "      <td>5.0</td>\n",
       "    </tr>\n",
       "    <tr>\n",
       "      <th>5</th>\n",
       "      <td>Home</td>\n",
       "      <td>Matto</td>\n",
       "      <td>60</td>\n",
       "      <td>4.7</td>\n",
       "    </tr>\n",
       "  </tbody>\n",
       "</table>\n",
       "</div>"
      ],
      "text/plain": [
       "       Category      Name  Price  Rating\n",
       "0   Soft Drinks     Mehua     10     4.5\n",
       "1  Frozen Foods  1KG Meat     20     5.0\n",
       "5          Home     Matto     60     4.7"
      ]
     },
     "execution_count": 3,
     "metadata": {},
     "output_type": "execute_result"
    }
   ],
   "source": [
    "# Popular Products \n",
    "Popular_Products = ProductDetailsInfo[ProductDetailsInfo[\"Rating\"]> 4.2]\n",
    "Popular_Products"
   ]
  },
  {
   "cell_type": "code",
   "execution_count": 4,
   "metadata": {},
   "outputs": [
    {
     "data": {
      "text/html": [
       "<div>\n",
       "<style scoped>\n",
       "    .dataframe tbody tr th:only-of-type {\n",
       "        vertical-align: middle;\n",
       "    }\n",
       "\n",
       "    .dataframe tbody tr th {\n",
       "        vertical-align: top;\n",
       "    }\n",
       "\n",
       "    .dataframe thead th {\n",
       "        text-align: right;\n",
       "    }\n",
       "</style>\n",
       "<table border=\"1\" class=\"dataframe\">\n",
       "  <thead>\n",
       "    <tr style=\"text-align: right;\">\n",
       "      <th></th>\n",
       "      <th>Category</th>\n",
       "      <th>Name</th>\n",
       "      <th>Price</th>\n",
       "      <th>Rating</th>\n",
       "    </tr>\n",
       "  </thead>\n",
       "  <tbody>\n",
       "    <tr>\n",
       "      <th>0</th>\n",
       "      <td>Soft Drinks</td>\n",
       "      <td>Mehua</td>\n",
       "      <td>10</td>\n",
       "      <td>4.5</td>\n",
       "    </tr>\n",
       "    <tr>\n",
       "      <th>1</th>\n",
       "      <td>Frozen Foods</td>\n",
       "      <td>1KG Meat</td>\n",
       "      <td>20</td>\n",
       "      <td>5.0</td>\n",
       "    </tr>\n",
       "    <tr>\n",
       "      <th>2</th>\n",
       "      <td>Hot meals</td>\n",
       "      <td>Cooked meat</td>\n",
       "      <td>15</td>\n",
       "      <td>3.5</td>\n",
       "    </tr>\n",
       "    <tr>\n",
       "      <th>3</th>\n",
       "      <td>Clothing</td>\n",
       "      <td>t-shirt</td>\n",
       "      <td>30</td>\n",
       "      <td>4.0</td>\n",
       "    </tr>\n",
       "    <tr>\n",
       "      <th>4</th>\n",
       "      <td>Sport</td>\n",
       "      <td>football Stuff</td>\n",
       "      <td>40</td>\n",
       "      <td>4.2</td>\n",
       "    </tr>\n",
       "    <tr>\n",
       "      <th>5</th>\n",
       "      <td>Home</td>\n",
       "      <td>Matto</td>\n",
       "      <td>60</td>\n",
       "      <td>4.7</td>\n",
       "    </tr>\n",
       "    <tr>\n",
       "      <th>6</th>\n",
       "      <td>Electronics</td>\n",
       "      <td>laaturi</td>\n",
       "      <td>12</td>\n",
       "      <td>3.9</td>\n",
       "    </tr>\n",
       "  </tbody>\n",
       "</table>\n",
       "</div>"
      ],
      "text/plain": [
       "       Category            Name  Price  Rating\n",
       "0   Soft Drinks           Mehua     10     4.5\n",
       "1  Frozen Foods        1KG Meat     20     5.0\n",
       "2     Hot meals     Cooked meat     15     3.5\n",
       "3      Clothing         t-shirt     30     4.0\n",
       "4         Sport  football Stuff     40     4.2\n",
       "5          Home           Matto     60     4.7\n",
       "6   Electronics         laaturi     12     3.9"
      ]
     },
     "execution_count": 4,
     "metadata": {},
     "output_type": "execute_result"
    }
   ],
   "source": [
    "# budget friendly products \n",
    "\n",
    "budgetFriendlyProducts = ProductDetailsInfo[ProductDetailsInfo[\"Price\"]< 70]\n",
    "budgetFriendlyProducts\n"
   ]
  },
  {
   "cell_type": "code",
   "execution_count": 6,
   "metadata": {},
   "outputs": [
    {
     "data": {
      "text/html": [
       "<div>\n",
       "<style scoped>\n",
       "    .dataframe tbody tr th:only-of-type {\n",
       "        vertical-align: middle;\n",
       "    }\n",
       "\n",
       "    .dataframe tbody tr th {\n",
       "        vertical-align: top;\n",
       "    }\n",
       "\n",
       "    .dataframe thead th {\n",
       "        text-align: right;\n",
       "    }\n",
       "</style>\n",
       "<table border=\"1\" class=\"dataframe\">\n",
       "  <thead>\n",
       "    <tr style=\"text-align: right;\">\n",
       "      <th></th>\n",
       "      <th>Category</th>\n",
       "      <th>Name</th>\n",
       "      <th>Price</th>\n",
       "      <th>Rating</th>\n",
       "    </tr>\n",
       "  </thead>\n",
       "  <tbody>\n",
       "    <tr>\n",
       "      <th>2</th>\n",
       "      <td>Hot meals</td>\n",
       "      <td>Cooked meat</td>\n",
       "      <td>15</td>\n",
       "      <td>3.5</td>\n",
       "    </tr>\n",
       "    <tr>\n",
       "      <th>3</th>\n",
       "      <td>Clothing</td>\n",
       "      <td>t-shirt</td>\n",
       "      <td>30</td>\n",
       "      <td>4.0</td>\n",
       "    </tr>\n",
       "    <tr>\n",
       "      <th>4</th>\n",
       "      <td>Sport</td>\n",
       "      <td>football Stuff</td>\n",
       "      <td>40</td>\n",
       "      <td>4.2</td>\n",
       "    </tr>\n",
       "    <tr>\n",
       "      <th>6</th>\n",
       "      <td>Electronics</td>\n",
       "      <td>laaturi</td>\n",
       "      <td>12</td>\n",
       "      <td>3.9</td>\n",
       "    </tr>\n",
       "  </tbody>\n",
       "</table>\n",
       "</div>"
      ],
      "text/plain": [
       "      Category            Name  Price  Rating\n",
       "2    Hot meals     Cooked meat     15     3.5\n",
       "3     Clothing         t-shirt     30     4.0\n",
       "4        Sport  football Stuff     40     4.2\n",
       "6  Electronics         laaturi     12     3.9"
      ]
     },
     "execution_count": 6,
     "metadata": {},
     "output_type": "execute_result"
    }
   ],
   "source": [
    "# PremiumProducts\n",
    "PremiumProducts = ProductDetailsInfo[(ProductDetailsInfo[\"Price\"]< 120) & (ProductDetailsInfo[\"Rating\"]< 4.5)]\n",
    "PremiumProducts"
   ]
  },
  {
   "cell_type": "code",
   "execution_count": 11,
   "metadata": {},
   "outputs": [
    {
     "data": {
      "text/html": [
       "<div>\n",
       "<style scoped>\n",
       "    .dataframe tbody tr th:only-of-type {\n",
       "        vertical-align: middle;\n",
       "    }\n",
       "\n",
       "    .dataframe tbody tr th {\n",
       "        vertical-align: top;\n",
       "    }\n",
       "\n",
       "    .dataframe thead th {\n",
       "        text-align: right;\n",
       "    }\n",
       "</style>\n",
       "<table border=\"1\" class=\"dataframe\">\n",
       "  <thead>\n",
       "    <tr style=\"text-align: right;\">\n",
       "      <th></th>\n",
       "      <th>Category</th>\n",
       "      <th>Name</th>\n",
       "      <th>Price</th>\n",
       "      <th>Rating</th>\n",
       "    </tr>\n",
       "  </thead>\n",
       "  <tbody>\n",
       "    <tr>\n",
       "      <th>5</th>\n",
       "      <td>Home</td>\n",
       "      <td>Matto</td>\n",
       "      <td>60</td>\n",
       "      <td>4.7</td>\n",
       "    </tr>\n",
       "    <tr>\n",
       "      <th>7</th>\n",
       "      <td>Books</td>\n",
       "      <td>Miksi olet köyhä</td>\n",
       "      <td>150</td>\n",
       "      <td>4.0</td>\n",
       "    </tr>\n",
       "  </tbody>\n",
       "</table>\n",
       "</div>"
      ],
      "text/plain": [
       "  Category              Name  Price  Rating\n",
       "5     Home             Matto     60     4.7\n",
       "7    Books  Miksi olet köyhä    150     4.0"
      ]
     },
     "execution_count": 11,
     "metadata": {},
     "output_type": "execute_result"
    }
   ],
   "source": [
    "# sorting Products i desending order \n",
    "sortedProducts = ProductDetailsInfo[(ProductDetailsInfo[\"Price\"]> 40) & (ProductDetailsInfo[\"Rating\"]> 3.8) ]\n",
    "sortedProducts.sort_values(by='Rating', ascending= False)"
   ]
  },
  {
   "cell_type": "markdown",
   "metadata": {},
   "source": [
    "# Exercise 2.2"
   ]
  },
  {
   "cell_type": "code",
   "execution_count": 14,
   "metadata": {},
   "outputs": [
    {
     "data": {
      "text/html": [
       "<div>\n",
       "<style scoped>\n",
       "    .dataframe tbody tr th:only-of-type {\n",
       "        vertical-align: middle;\n",
       "    }\n",
       "\n",
       "    .dataframe tbody tr th {\n",
       "        vertical-align: top;\n",
       "    }\n",
       "\n",
       "    .dataframe thead th {\n",
       "        text-align: right;\n",
       "    }\n",
       "</style>\n",
       "<table border=\"1\" class=\"dataframe\">\n",
       "  <thead>\n",
       "    <tr style=\"text-align: right;\">\n",
       "      <th></th>\n",
       "      <th>StudentID</th>\n",
       "      <th>Name</th>\n",
       "      <th>MathGrade</th>\n",
       "      <th>EnglishGrade</th>\n",
       "      <th>ScienceGrade</th>\n",
       "    </tr>\n",
       "  </thead>\n",
       "  <tbody>\n",
       "    <tr>\n",
       "      <th>0</th>\n",
       "      <td>1</td>\n",
       "      <td>Zack</td>\n",
       "      <td>40</td>\n",
       "      <td>75</td>\n",
       "      <td>90</td>\n",
       "    </tr>\n",
       "    <tr>\n",
       "      <th>1</th>\n",
       "      <td>2</td>\n",
       "      <td>Aleksi</td>\n",
       "      <td>90</td>\n",
       "      <td>88</td>\n",
       "      <td>82</td>\n",
       "    </tr>\n",
       "    <tr>\n",
       "      <th>2</th>\n",
       "      <td>3</td>\n",
       "      <td>James</td>\n",
       "      <td>85</td>\n",
       "      <td>92</td>\n",
       "      <td>91</td>\n",
       "    </tr>\n",
       "    <tr>\n",
       "      <th>3</th>\n",
       "      <td>4</td>\n",
       "      <td>Jarre</td>\n",
       "      <td>70</td>\n",
       "      <td>95</td>\n",
       "      <td>84</td>\n",
       "    </tr>\n",
       "    <tr>\n",
       "      <th>4</th>\n",
       "      <td>5</td>\n",
       "      <td>Hamda</td>\n",
       "      <td>95</td>\n",
       "      <td>80</td>\n",
       "      <td>95</td>\n",
       "    </tr>\n",
       "    <tr>\n",
       "      <th>5</th>\n",
       "      <td>6</td>\n",
       "      <td>Love</td>\n",
       "      <td>92</td>\n",
       "      <td>90</td>\n",
       "      <td>88</td>\n",
       "    </tr>\n",
       "    <tr>\n",
       "      <th>6</th>\n",
       "      <td>7</td>\n",
       "      <td>Link</td>\n",
       "      <td>88</td>\n",
       "      <td>86</td>\n",
       "      <td>93</td>\n",
       "    </tr>\n",
       "    <tr>\n",
       "      <th>7</th>\n",
       "      <td>8</td>\n",
       "      <td>Ibra</td>\n",
       "      <td>91</td>\n",
       "      <td>75</td>\n",
       "      <td>98</td>\n",
       "    </tr>\n",
       "  </tbody>\n",
       "</table>\n",
       "</div>"
      ],
      "text/plain": [
       "   StudentID    Name  MathGrade  EnglishGrade  ScienceGrade\n",
       "0          1    Zack         40            75            90\n",
       "1          2  Aleksi         90            88            82\n",
       "2          3   James         85            92            91\n",
       "3          4   Jarre         70            95            84\n",
       "4          5   Hamda         95            80            95\n",
       "5          6    Love         92            90            88\n",
       "6          7    Link         88            86            93\n",
       "7          8    Ibra         91            75            98"
      ]
     },
     "execution_count": 14,
     "metadata": {},
     "output_type": "execute_result"
    }
   ],
   "source": [
    "# Exploring Student Performance Through Visualization \n",
    "import matplotlib.pyplot as plt\n",
    "\n",
    "StudentScores = {\n",
    "\n",
    "    \"StudentID\": [1, 2, 3, 4, 5, 6, 7, 8],\n",
    "    \"Name\": ['Zack', 'Aleksi', 'James', 'Jarre', 'Hamda', 'Love', 'Link', 'Ibra'],\n",
    "    \"MathGrade\": [40, 90, 85, 70, 95, 92, 88, 91],\n",
    "    \"EnglishGrade\": [75, 88, 92, 95, 80, 90, 86, 75],\n",
    "    \"ScienceGrade\": [90, 82, 91, 84, 95, 88, 93, 98]\n",
    "}\n",
    "\n",
    "StudentScoresInfo = pd.DataFrame(StudentScores)\n",
    "\n",
    "StudentScoresInfo"
   ]
  },
  {
   "cell_type": "code",
   "execution_count": 17,
   "metadata": {},
   "outputs": [
    {
     "data": {
      "text/plain": [
       "<Axes: xlabel='MathGrade', ylabel='EnglishGrade'>"
      ]
     },
     "execution_count": 17,
     "metadata": {},
     "output_type": "execute_result"
    },
    {
     "data": {
      "image/png": "[encoded data removed]",
      "text/plain": [
       "<Figure size 640x480 with 1 Axes>"
      ]
     },
     "metadata": {},
     "output_type": "display_data"
    }
   ],
   "source": [
    "#  Scatter Plot of Math and English Scores\n",
    "import matplotlib.pyplot as plt\n",
    "\n",
    "StudentScoresInfo.plot(kind = \"scatter\", x = \"MathGrade\", y=\"EnglishGrade\")"
   ]
  },
  {
   "cell_type": "code",
   "execution_count": 18,
   "metadata": {},
   "outputs": [
    {
     "data": {
      "text/plain": [
       "<Axes: >"
      ]
     },
     "execution_count": 18,
     "metadata": {},
     "output_type": "execute_result"
    },
    {
     "data": {
      "image/png": "[encoded data removed]",
      "text/plain": [
       "<Figure size 640x480 with 1 Axes>"
      ]
     },
     "metadata": {},
     "output_type": "display_data"
    }
   ],
   "source": [
    "#  Distribution of Science Scores\n",
    "\n",
    "StudentScoresInfo[\"ScienceGrade\"].plot(kind = \"bar\")"
   ]
  },
  {
   "cell_type": "code",
   "execution_count": 20,
   "metadata": {},
   "outputs": [
    {
     "data": {
      "text/html": [
       "<div>\n",
       "<style scoped>\n",
       "    .dataframe tbody tr th:only-of-type {\n",
       "        vertical-align: middle;\n",
       "    }\n",
       "\n",
       "    .dataframe tbody tr th {\n",
       "        vertical-align: top;\n",
       "    }\n",
       "\n",
       "    .dataframe thead th {\n",
       "        text-align: right;\n",
       "    }\n",
       "</style>\n",
       "<table border=\"1\" class=\"dataframe\">\n",
       "  <thead>\n",
       "    <tr style=\"text-align: right;\">\n",
       "      <th></th>\n",
       "      <th>StudentID</th>\n",
       "      <th>Name</th>\n",
       "      <th>MathGrade</th>\n",
       "      <th>EnglishGrade</th>\n",
       "      <th>ScienceGrade</th>\n",
       "      <th>Gender</th>\n",
       "    </tr>\n",
       "  </thead>\n",
       "  <tbody>\n",
       "    <tr>\n",
       "      <th>0</th>\n",
       "      <td>1</td>\n",
       "      <td>Zack</td>\n",
       "      <td>40</td>\n",
       "      <td>75</td>\n",
       "      <td>90</td>\n",
       "      <td>Man</td>\n",
       "    </tr>\n",
       "    <tr>\n",
       "      <th>1</th>\n",
       "      <td>2</td>\n",
       "      <td>Aleksi</td>\n",
       "      <td>90</td>\n",
       "      <td>88</td>\n",
       "      <td>82</td>\n",
       "      <td>Woman</td>\n",
       "    </tr>\n",
       "    <tr>\n",
       "      <th>2</th>\n",
       "      <td>3</td>\n",
       "      <td>James</td>\n",
       "      <td>85</td>\n",
       "      <td>92</td>\n",
       "      <td>91</td>\n",
       "      <td>Man</td>\n",
       "    </tr>\n",
       "    <tr>\n",
       "      <th>3</th>\n",
       "      <td>4</td>\n",
       "      <td>Jarre</td>\n",
       "      <td>70</td>\n",
       "      <td>95</td>\n",
       "      <td>84</td>\n",
       "      <td>Woman</td>\n",
       "    </tr>\n",
       "    <tr>\n",
       "      <th>4</th>\n",
       "      <td>5</td>\n",
       "      <td>Hamda</td>\n",
       "      <td>95</td>\n",
       "      <td>80</td>\n",
       "      <td>95</td>\n",
       "      <td>Woman</td>\n",
       "    </tr>\n",
       "    <tr>\n",
       "      <th>5</th>\n",
       "      <td>6</td>\n",
       "      <td>Love</td>\n",
       "      <td>92</td>\n",
       "      <td>90</td>\n",
       "      <td>88</td>\n",
       "      <td>Woman</td>\n",
       "    </tr>\n",
       "    <tr>\n",
       "      <th>6</th>\n",
       "      <td>7</td>\n",
       "      <td>Link</td>\n",
       "      <td>88</td>\n",
       "      <td>86</td>\n",
       "      <td>93</td>\n",
       "      <td>Man</td>\n",
       "    </tr>\n",
       "    <tr>\n",
       "      <th>7</th>\n",
       "      <td>8</td>\n",
       "      <td>Ibra</td>\n",
       "      <td>91</td>\n",
       "      <td>75</td>\n",
       "      <td>98</td>\n",
       "      <td>Woman</td>\n",
       "    </tr>\n",
       "  </tbody>\n",
       "</table>\n",
       "</div>"
      ],
      "text/plain": [
       "   StudentID    Name  MathGrade  EnglishGrade  ScienceGrade Gender\n",
       "0          1    Zack         40            75            90    Man\n",
       "1          2  Aleksi         90            88            82  Woman\n",
       "2          3   James         85            92            91    Man\n",
       "3          4   Jarre         70            95            84  Woman\n",
       "4          5   Hamda         95            80            95  Woman\n",
       "5          6    Love         92            90            88  Woman\n",
       "6          7    Link         88            86            93    Man\n",
       "7          8    Ibra         91            75            98  Woman"
      ]
     },
     "execution_count": 20,
     "metadata": {},
     "output_type": "execute_result"
    }
   ],
   "source": [
    "# adding this column called gender \n",
    "\n",
    "StudentScoresInfo[\"Gender\"] = [\"Man\", \"Woman\", \"Man\", \"Woman\", \"Woman\", \"Woman\", \"Man\", \"Woman\"]\n",
    "\n",
    "StudentScoresInfo\n"
   ]
  },
  {
   "cell_type": "code",
   "execution_count": 24,
   "metadata": {},
   "outputs": [
    {
     "data": {
      "text/plain": [
       "Gender\n",
       "Woman    5\n",
       "Man      3\n",
       "Name: count, dtype: int64"
      ]
     },
     "execution_count": 24,
     "metadata": {},
     "output_type": "execute_result"
    }
   ],
   "source": [
    "#Pie Chart of Gender Distribution \n",
    "GenderDistrabution = StudentScoresInfo[\"Gender\"].value_counts()\n",
    "GenderDistrabution"
   ]
  },
  {
   "cell_type": "code",
   "execution_count": 25,
   "metadata": {},
   "outputs": [
    {
     "data": {
      "text/plain": [
       "<Axes: title={'center': 'How many of Students are woman and man '}, xlabel='Gender'>"
      ]
     },
     "execution_count": 25,
     "metadata": {},
     "output_type": "execute_result"
    },
    {
     "data": {
      "image/png": "[encoded data removed]",
      "text/plain": [
       "<Figure size 640x480 with 1 Axes>"
      ]
     },
     "metadata": {},
     "output_type": "display_data"
    }
   ],
   "source": [
    "# nOW WE CAN CREATE THE PIE CHART \n",
    "\n",
    "GenderDistrabution.plot(kind=\"bar\", title=\"How many of Students are woman and man \")"
   ]
  },
  {
   "cell_type": "code",
   "execution_count": 49,
   "metadata": {},
   "outputs": [
    {
     "data": {
      "text/plain": [
       "<Axes: title={'center': 'Distribution of Math Scores'}, xlabel='MathGrade'>"
      ]
     },
     "execution_count": 49,
     "metadata": {},
     "output_type": "execute_result"
    },
    {
     "data": {
      "image/png": "[encoded data removed]",
      "text/plain": [
       "<Figure size 640x480 with 1 Axes>"
      ]
     },
     "metadata": {},
     "output_type": "display_data"
    }
   ],
   "source": [
    "# Bar Chart of Math Scores Ranges\n",
    "ranges = [0, 50, 70, 90, 100]\n",
    "labels = ['0-50', '51-70', '71-90', '91-100']\n",
    "\n",
    "# Use the cut() function to categorize the Math scores into ranges\n",
    "StudentScores['MathGrade'] = pd.cut(StudentScoresInfo[\"MathGrade\"], bins=ranges, labels=labels, include_lowest=True)\n",
    "\n",
    "# Count the number of students within each range\n",
    "score_counts = StudentScores['MathGrade'].value_counts().sort_index()\n",
    "\n",
    "# Visualize the count of students within each range using a bar chart\n",
    "score_counts.plot(kind='bar', x=\"Math Score Range\", y='Count of Students', title= \"Distribution of Math Scores\")"
   ]
  },
  {
   "cell_type": "markdown",
   "metadata": {},
   "source": [
    "# Exercise 2.3"
   ]
  },
  {
   "cell_type": "code",
   "execution_count": null,
   "metadata": {},
   "outputs": [],
   "source": [
    "#   Analyzing Employee Data Through Visualization\n",
    "\n"
   ]
  }
 ],
 "metadata": {
  "kernelspec": {
   "display_name": "Python 3",
   "language": "python",
   "name": "python3"
  },
  "language_info": {
   "codemirror_mode": {
    "name": "ipython",
    "version": 3
   },
   "file_extension": ".py",
   "mimetype": "text/x-python",
   "name": "python",
   "nbconvert_exporter": "python",
   "pygments_lexer": "ipython3",
   "version": "3.11.5"
  },
  "orig_nbformat": 4
 },
 "nbformat": 4,
 "nbformat_minor": 2
}
